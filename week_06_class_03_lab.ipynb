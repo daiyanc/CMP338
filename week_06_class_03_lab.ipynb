{
  "nbformat": 4,
  "nbformat_minor": 0,
  "metadata": {
    "kernelspec": {
      "display_name": "Python 3",
      "language": "python",
      "name": "python3"
    },
    "language_info": {
      "codemirror_mode": {
        "name": "ipython",
        "version": 3
      },
      "file_extension": ".py",
      "mimetype": "text/x-python",
      "name": "python",
      "nbconvert_exporter": "python",
      "pygments_lexer": "ipython3",
      "version": "3.8.6"
    },
    "colab": {
      "name": "Copy of week-06-class-03-lab.ipynb",
      "provenance": [],
      "collapsed_sections": [],
      "include_colab_link": true
    }
  },
  "cells": [
    {
      "cell_type": "markdown",
      "metadata": {
        "id": "view-in-github",
        "colab_type": "text"
      },
      "source": [
        "<a href=\"https://colab.research.google.com/github/xdaiyan/CMP338/blob/main/week_06_class_03_lab.ipynb\" target=\"_parent\"><img src=\"https://colab.research.google.com/assets/colab-badge.svg\" alt=\"Open In Colab\"/></a>"
      ]
    },
    {
      "cell_type": "markdown",
      "metadata": {
        "id": "D71fBSEfL0Dc"
      },
      "source": [
        "<div style=\"background: #000;\n",
        "            color: #FFF;\n",
        "            margin: 0px;\n",
        "                padding: 10px 0px 20px 0px;\n",
        "            text-align: center; \n",
        "                \">\n",
        "    <h1>Week 6 - Class 3 - Lab</h1>\n",
        "</div>\n"
      ]
    },
    {
      "cell_type": "markdown",
      "metadata": {
        "id": "Z2aiBoFML0Dg"
      },
      "source": [
        "# Question 1\n",
        "\n",
        "What is object inheritance? What does it mean for a class instance to inherit another? How can this be useful in our programming?"
      ]
    },
    {
      "cell_type": "markdown",
      "metadata": {
        "id": "6ikNEjFy0nGM"
      },
      "source": [
        "> When an object inherits another class, it inherits all the public accessible methods and variables defined in that class as a base. This is useful when you want to make multiple classes that branch from a singular class\n"
      ]
    },
    {
      "cell_type": "markdown",
      "metadata": {
        "id": "_fntWDOUL0Dh"
      },
      "source": [
        "# Exercise 1\n",
        "\n",
        "Create a class that uses `@property` with the associated `setter` and `deleter` methods.\n",
        "\n",
        "Use this material for reference:\n",
        "https://www.codecademy.com/courses/learn-intermediate-python-3/lessons/int-python-oop/exercises/python-getters-and-setters"
      ]
    },
    {
      "cell_type": "code",
      "metadata": {
        "id": "hlJk7ZPfL0Di",
        "colab": {
          "base_uri": "https://localhost:8080/"
        },
        "outputId": "36b176c5-25c2-4f53-d7ae-f3fa58156d2c"
      },
      "source": [
        "class Student:\n",
        "    def __init__(self, name):\n",
        "        self._name = name\n",
        "      \n",
        "    @property  \n",
        "    def name(self):\n",
        "      return self._name\n",
        "\n",
        "    @name.setter\n",
        "    def set_name(self, new_name):\n",
        "      self._name = new_name\n",
        "\n",
        "    def del_name(self):\n",
        "      del self._name  \n",
        "  \n",
        "  \n",
        "x = Student(\"Marvin\")\n",
        "print(x.name)\n",
        "y = Student(\"Caliban\")\n",
        "x.set_name = 'Mark'\n",
        "print(x.name)\n",
        "print(y.name)"
      ],
      "execution_count": null,
      "outputs": [
        {
          "output_type": "stream",
          "name": "stdout",
          "text": [
            "Marvin\n",
            "Mark\n",
            "Caliban\n"
          ]
        }
      ]
    },
    {
      "cell_type": "markdown",
      "metadata": {
        "id": "bRtzTPTRL0Dj"
      },
      "source": [
        "# Exercise 2:\n",
        "\n",
        "Create a class called `Store`, create an attribute called `inventory` that holds the product name as key and an int representing the count/number of that product as the value. \n",
        "\n",
        "Create a method that decrements from the product's count each time a specific product is purchased. Create a least one addtional method to help your class simulate a store (e.g. a method that lists the products for sale could be one). Also consider how you might want to add products to the store via the `__init__` method and later when the instance has already been created.\n",
        "\n",
        "When you're finished, create an instance of `Store` and demonstrate that your methods/code work. Bonus points for addtional methods/functionality."
      ]
    },
    {
      "cell_type": "code",
      "metadata": {
        "id": "BdoOpGZAL0Dj"
      },
      "source": [
        "class Store:\n",
        "  def __init__(self):\n",
        "    self.inventory = {}\n",
        "\n",
        "  def add_item(self, product, frequency):\n",
        "    if product in self.inventory.keys():\n",
        "      frequency += self.inventory[product]\n",
        "      self.inventory[product] = frequency\n",
        "    else:\n",
        "      self.inventory[product] = frequency  \n",
        "    print(f'Added product: {product}, {frequency}')  \n",
        "    print(f'Current inventory: {self.inventory}')\n",
        "    \n",
        "\n",
        "  def remove_item(self, product):\n",
        "    if product in self.inventory.keys():\n",
        "      amount = self.inventory[product]\n",
        "      self.inventory[product] = amount - 1\n",
        "      print(f'Removed item: {product}')\n",
        "      print(f'Current inventory: {self.inventory}')\n",
        "    else:\n",
        "      raise AttributeError(\"Product not in inventory.\")  \n",
        "      \n",
        "\n",
        "  def __str__(self):\n",
        "    return f'Current store: {self.inventory}'"
      ],
      "execution_count": null,
      "outputs": []
    },
    {
      "cell_type": "code",
      "metadata": {
        "colab": {
          "base_uri": "https://localhost:8080/"
        },
        "id": "rs9F5IwmtfJm",
        "outputId": "821ad531-2e4d-4ca7-a9bd-95d5fc6fade8"
      },
      "source": [
        "store1 = Store()        \n",
        "store1.add_item('blueberries', 8)\n",
        "store1.add_item('apples', 4)\n",
        "store1.add_item('oranges', 5)\n",
        "store1.add_item('apples', 5)\n",
        "store1.remove_item('blueberries')\n",
        "store1.remove_item('blueberries')\n",
        "print(store1)"
      ],
      "execution_count": null,
      "outputs": [
        {
          "output_type": "stream",
          "name": "stdout",
          "text": [
            "Added product: blueberries, 8\n",
            "Current inventory: {'blueberries': 8}\n",
            "Added product: apples, 4\n",
            "Current inventory: {'blueberries': 8, 'apples': 4}\n",
            "Added product: oranges, 5\n",
            "Current inventory: {'blueberries': 8, 'apples': 4, 'oranges': 5}\n",
            "Added product: apples, 9\n",
            "Current inventory: {'blueberries': 8, 'apples': 9, 'oranges': 5}\n",
            "Removed item: blueberries\n",
            "Current inventory: {'blueberries': 7, 'apples': 9, 'oranges': 5}\n",
            "Removed item: blueberries\n",
            "Current inventory: {'blueberries': 6, 'apples': 9, 'oranges': 5}\n",
            "Current store: {'blueberries': 6, 'apples': 9, 'oranges': 5}\n"
          ]
        }
      ]
    },
    {
      "cell_type": "markdown",
      "metadata": {
        "id": "GkV5UjQUL0Dj"
      },
      "source": [
        "# Exercise 3:\n",
        "\n",
        "Create two classes. One that acts as a parent class and the other that acts as a child class that inherits from the parent. Create a method of the child class that uses attributes from the parent class. Demonstrate your code works by creating an instance of the child class and showing that the method works."
      ]
    },
    {
      "cell_type": "code",
      "metadata": {
        "id": "qAEcV2bpL0Dk"
      },
      "source": [
        "class Human:\n",
        "  def __init__(self, name, height, age):\n",
        "    self.name = name\n",
        "    self.height = height\n",
        "    self.age = age\n",
        "\n",
        "  def isHungry(self):\n",
        "    return False  \n",
        "\n",
        "\n",
        "class Mark(Human):\n",
        "  def __init__(self, name, height, age, job):\n",
        "    super().__init__(name, height, age)\n",
        "    self.job = job\n",
        "\n",
        "  def __str__(self):\n",
        "    return f'{self.name} is {self.age} and is {self.height}s tall and he works as a {self.job}'      "
      ],
      "execution_count": null,
      "outputs": []
    },
    {
      "cell_type": "code",
      "metadata": {
        "colab": {
          "base_uri": "https://localhost:8080/"
        },
        "id": "dgRJEUbDyrnS",
        "outputId": "87c281d3-922a-495f-d8a8-4be7f9ebdb43"
      },
      "source": [
        "mark = Mark('Mark', '180cm', 30, 'CEO')\n",
        "print(mark)"
      ],
      "execution_count": null,
      "outputs": [
        {
          "output_type": "stream",
          "name": "stdout",
          "text": [
            "Mark is 30 and is 180cms tall and he works as a CEO\n"
          ]
        }
      ]
    },
    {
      "cell_type": "markdown",
      "metadata": {
        "id": "HdNgJe33L0Dl"
      },
      "source": [
        "# Bonus\n",
        "\n",
        "Using the following class, overload the `+` operator so when the two instances are added, the salaries are added and the sum is outputted. Also override the `__repr__` method so you can output a string that will create the same exact class (`\"Employee(**insert correct values here**)\"`).\n",
        "\n",
        "Use this material as a reference:\n",
        "https://www.geeksforgeeks.org/operator-overloading-in-python/"
      ]
    },
    {
      "cell_type": "code",
      "metadata": {
        "id": "UAMxXvZAL0Dl",
        "colab": {
          "base_uri": "https://localhost:8080/"
        },
        "outputId": "98e69b8b-b144-4556-c60e-3ebcd941466c"
      },
      "source": [
        "class Employee:\n",
        "    def __init__(self, name, age, salary):\n",
        "        self.name = name\n",
        "        self.age = age\n",
        "        self.salary = salary\n",
        "        \n",
        "    # fix this code:\n",
        "    def __add__(self, other):\n",
        "      return self.salary + other.salary\n",
        "    \n",
        "    # fix this code:\n",
        "    \n",
        "    def __repr__(self):\n",
        "      return f'Name: {self.name}, Age: {self.age}, Salary: {self.salary}'\n",
        "    \n",
        "empl1 = Employee('Kamala', 55, 166000)\n",
        "empl2 = Employee('Joe', 77, 250000)\n",
        "\n",
        "print(empl1)\n",
        "print(empl2)\n",
        "empl1 + empl2"
      ],
      "execution_count": null,
      "outputs": [
        {
          "output_type": "stream",
          "name": "stdout",
          "text": [
            "Name: Kamala, Age: 55, Salary: 166000\n",
            "Name: Joe, Age: 77, Salary: 250000\n"
          ]
        },
        {
          "output_type": "execute_result",
          "data": {
            "text/plain": [
              "416000"
            ]
          },
          "metadata": {},
          "execution_count": 37
        }
      ]
    }
  ]
}